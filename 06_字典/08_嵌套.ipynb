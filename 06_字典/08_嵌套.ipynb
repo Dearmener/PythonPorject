
alien_0 = {'color':'green','points':5}
alien_1 = {'color':'yellow','points':15}
alien_2 = {'color':'red','points':15}

# 将三个字典放入一个列表中，形成嵌套
aliens = [alien_0,alien_1,alien_2]
for alien in aliens:
    print(alien)
