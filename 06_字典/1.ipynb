{
 "cells": [
  {
   "cell_type": "code",
   "execution_count": null,
   "metadata": {
    "collapsed": false
   },
   "outputs": [],
   "source": [
    "aliens = []\n",
    "for aline_number in range(30):\n",
    "    new_alien = {'name': \"aliens_\"+str(aline_number),'color':'green','points':5,'speed':'slow'}\n",
    "    aliens.append(new_alien)\n",
    "\n",
    "for alien in aliens:\n",
    "    print(alien)"
   ]
  },
  {
   "cell_type": "code",
   "execution_count": 4,
   "metadata": {
    "ExecuteTime": {
     "end_time": "2023-08-18T09:30:48.510444800Z",
     "start_time": "2023-08-18T09:30:48.500652600Z"
    },
    "collapsed": false
   },
   "outputs": [
    {
     "name": "stdout",
     "output_type": "stream",
     "text": [
      "{'name': 'aliens_0', 'color': 'yellow', 'points': 10, 'speed': 'medium'}\n",
      "{'name': 'aliens_1', 'color': 'yellow', 'points': 10, 'speed': 'medium'}\n",
      "{'name': 'aliens_2', 'color': 'yellow', 'points': 10, 'speed': 'medium'}\n",
      "{'name': 'aliens_3', 'color': 'green', 'points': 5, 'speed': 'slow'}\n",
      "{'name': 'aliens_4', 'color': 'green', 'points': 5, 'speed': 'slow'}\n"
     ]
    }
   ],
   "source": [
    "for alien in aliens[:3]:\n",
    "    if alien.get('color') == 'green':\n",
    "        alien['color'] = 'yellow'\n",
    "        alien['speed'] = 'medium'\n",
    "        alien['points'] = 10\n",
    "\n",
    "for alien in aliens[:5]:\n",
    "    print(alien)\n"
   ]
  },
  {
   "attachments": {},
   "cell_type": "markdown",
   "metadata": {},
   "source": [
    "## 在字典中存储列表"
   ]
  },
  {
   "cell_type": "code",
   "execution_count": 1,
   "metadata": {},
   "outputs": [
    {
     "name": "stdout",
     "output_type": "stream",
     "text": [
      "your order thick\n",
      "mushrooms\n",
      "extra cheese\n"
     ]
    }
   ],
   "source": [
    "pizza = {\n",
    "    'crust': 'thick',\n",
    "    'toppoings' : ['mushrooms','extra cheese']\n",
    "}\n",
    "\n",
    "# 输出crust\n",
    "print(f\"your order {pizza['crust']}\")\n",
    "\n",
    "for topping in pizza['toppoings']:\n",
    "    print(f\"{topping}\")"
   ]
  },
  {
   "cell_type": "code",
   "execution_count": null,
   "metadata": {},
   "outputs": [],
   "source": [
    "favorite_languages = {\n",
    "    'jen' : ['python','ruby'],\n",
    "    'sarah' : ['c'],\n",
    "    'edward' : ['ruby','go'],\n",
    "    'phil' : ['python','haskell']\n",
    "}\n",
    "\n",
    "for name,languages in favorite_languages.items():\n",
    "    print(f\"{name.title()}'s favortite language are:\")\n",
    "    for language in languages:\n",
    "        print(f\"\\t{language}\")"
   ]
  },
  {
   "attachments": {},
   "cell_type": "markdown",
   "metadata": {},
   "source": [
    "## 在字典中存储字典"
   ]
  },
  {
   "cell_type": "code",
   "execution_count": 17,
   "metadata": {},
   "outputs": [
    {
     "name": "stdout",
     "output_type": "stream",
     "text": [
      "albert\n",
      "marie\n",
      "meg\n",
      "\n",
      "Username:aeinstein\n",
      "albert einstein\n",
      "\n",
      "Username:mcurie\n",
      "marie curie\n",
      "\n",
      "Username:meng\n",
      "meg gq\n"
     ]
    }
   ],
   "source": [
    "users = {\n",
    "    'aeinstein': {\n",
    "        'first': 'albert',\n",
    "        'last': 'einstein',\n",
    "        'location': 'princeton'\n",
    "    },\n",
    "\n",
    "    'mcurie':{\n",
    "        'first': 'marie',\n",
    "        'last': 'curie',\n",
    "        'location': 'paris'\n",
    "    },\n",
    "    \n",
    "    'meng':{\n",
    "        'first': 'meg',\n",
    "        'last': 'gq',\n",
    "        'location': 'china'\n",
    "    }\n",
    "}\n",
    "\n",
    "for name,person in users.items():\n",
    "    print(person['first'])\n",
    "\n",
    "for username,user_info in users.items():\n",
    "    print(f\"\\nUsername:{username}\")\n",
    "    # 通过get\n",
    "    # full_name = f\"{user_info.get('first')} {user_info.get('last')}\"\n",
    "    # 通过元素获取\n",
    "    full_name_1 = f\"{user_info['first']} {user_info['last']}\"\n",
    "    print(full_name_1)"
   ]
  },
  {
   "cell_type": "code",
   "execution_count": 4,
   "metadata": {},
   "outputs": [
    {
     "name": "stdout",
     "output_type": "stream",
     "text": [
      "meng\n",
      "zhang\n",
      "liaochaowei\n"
     ]
    }
   ],
   "source": [
    "# 创建一个列表存储people\n",
    "people = [\n",
    "{\n",
    "    'name': \"meng\",\n",
    "    'age': 20,\n",
    "    'location': \"hefei\"\n",
    "},\n",
    "\n",
    "{\n",
    "    'name': \"zhang\",\n",
    "    'age': 21,\n",
    "    'location':\"hefei\"\n",
    "},\n",
    "\n",
    "{\n",
    "    'name':\"liaochaowei\",\n",
    "    'age':40,\n",
    "    'localtion': 'xianggang'\n",
    "}\n",
    "]\n",
    "\n",
    "for person in people:\n",
    "    print(f\"{person['name']}\")"
   ]
  },
  {
   "cell_type": "code",
   "execution_count": 9,
   "metadata": {},
   "outputs": [
    {
     "name": "stdout",
     "output_type": "stream",
     "text": [
      "{'name': '火锅', 'age': 8, 'own': 'meng'}\n",
      "name,火锅\n",
      "age,8\n",
      "own,meng\n",
      "{'name': 'jing', 'age': 7, 'own': 'you'}\n",
      "name,jing\n",
      "age,7\n",
      "own,you\n",
      "{'name': 'ying', 'age': 8, 'own': 'alex'}\n",
      "name,ying\n",
      "age,8\n",
      "own,alex\n"
     ]
    }
   ],
   "source": [
    "# 创建一个宠物列表\n",
    "pet1 = {\n",
    "    \"name\": \"火锅\",\n",
    "    \"age\": 8,\n",
    "    \"own\": \"meng\"\n",
    "}\n",
    "\n",
    "pet2 = {\n",
    "    \"name\": \"jing\",\n",
    "    \"age\": 7,\n",
    "    \"own\": \"you\"\n",
    "}\n",
    "\n",
    "pet3 = {\n",
    "    \"name\": \"ying\",\n",
    "    \"age\": 8,\n",
    "    \"own\": \"alex\"\n",
    "}\n",
    "\n",
    "\n",
    "pets = [pet1,pet2,pet3]\n",
    "\n",
    "for pet in pets:\n",
    "    print(f\"{pet}\")\n",
    "    for k,v in pet.items():\n",
    "        print(f\"{k},{v}\")"
   ]
  },
  {
   "cell_type": "code",
   "execution_count": 19,
   "metadata": {},
   "outputs": [
    {
     "name": "stdout",
     "output_type": "stream",
     "text": [
      "mengguoqing\n",
      "hefei\n",
      "H2\n",
      "H3\n",
      "\n",
      "\n",
      "xijingping\n",
      "beijing\n",
      "B2\n",
      "B3\n",
      "\n",
      "\n",
      "zhangmingyue\n",
      "bengbu\n",
      "bb2\n",
      "bb3\n",
      "\n",
      "\n"
     ]
    }
   ],
   "source": [
    "# 喜爱的地方\n",
    "favorite_places = {\n",
    "    \"mengguoqing\":[\"hefei\",\"H2\",\"H3\"],\n",
    "    \"xijingping\": [\"beijing\",\"B2\",\"B3\"],\n",
    "    \"zhangmingyue\": [\"bengbu\",\"bb2\",\"bb3\"]\n",
    "}\n",
    "for k,v in favorite_places.items():\n",
    "    print(f\"{k}\")\n",
    "    for vv in v:\n",
    "        print(f\"{vv}\")\n",
    "    print(\"\\n\")\n"
   ]
  },
  {
   "cell_type": "code",
   "execution_count": 5,
   "metadata": {},
   "outputs": [
    {
     "name": "stdout",
     "output_type": "stream",
     "text": [
      "Hefei\n",
      "country is china\n",
      "peole is 3000\n",
      "Shouer\n",
      "country is Korean\n",
      "people is 2000\n"
     ]
    }
   ],
   "source": [
    "## 6-11 城市\n",
    "cities = {\n",
    "    \"Hefei\":{\n",
    "        \"country\":\"china\",\n",
    "        \"peole\": 3000\n",
    "    },\n",
    "    \"Shouer\":{\n",
    "        \"country\": \"Korean\",\n",
    "        \"people\": 2000\n",
    "    }\n",
    "}\n",
    "\n",
    "for k,v in cities.items():\n",
    "    print(f\"{k}\")\n",
    "    for k1,v1 in v.items():\n",
    "        print(f\"{k1} is {v1}\")"
   ]
  },
  {
   "cell_type": "code",
   "execution_count": null,
   "metadata": {},
   "outputs": [],
   "source": []
  }
 ],
 "metadata": {
  "kernelspec": {
   "display_name": "Python 3",
   "language": "python",
   "name": "python3"
  },
  "language_info": {
   "codemirror_mode": {
    "name": "ipython",
    "version": 3
   },
   "file_extension": ".py",
   "mimetype": "text/x-python",
   "name": "python",
   "nbconvert_exporter": "python",
   "pygments_lexer": "ipython3",
   "version": "3.11.4"
  }
 },
 "nbformat": 4,
 "nbformat_minor": 0
}
